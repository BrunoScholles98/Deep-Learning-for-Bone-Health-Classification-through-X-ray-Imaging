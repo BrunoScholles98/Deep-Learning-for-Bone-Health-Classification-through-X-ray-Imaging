{
 "cells": [
  {
   "cell_type": "code",
   "execution_count": 1,
   "metadata": {},
   "outputs": [],
   "source": [
    "import sys\n",
    "sys.path.append('/')\n",
    "import torch\n",
    "import cv2\n",
    "import numpy as np\n",
    "from torchvision import models\n",
    "from efficientnet_pytorch import EfficientNet\n",
    "from grad_cam import GradCam,GuidedBackpropReLUModel,show_cams,show_gbs,preprocess_image\n",
    "import os\n",
    "from PIL import Image"
   ]
  },
  {
   "attachments": {},
   "cell_type": "markdown",
   "metadata": {},
   "source": [
    "## Visualizaion for VGG19"
   ]
  },
  {
   "cell_type": "code",
   "execution_count": 12,
   "metadata": {},
   "outputs": [],
   "source": [
    "model = models.vgg19(pretrained=True)\n",
    "grad_cam = GradCam(model=model, blob_name = 'features', target_layer_names=['4','20','36'], use_cuda=False)\n",
    "img = cv2.imread('./assets/dog.jpg', 1)\n",
    "img = np.float32(cv2.resize(img, (224, 224))) / 255\n",
    "inputs = preprocess_image(img)\n",
    "# If None, returns the map for the highest scoring category.\n",
    "# Otherwise, targets the requested index.\n",
    "target_index = None\n",
    "mask_dic = grad_cam(inputs, target_index)\n",
    "show_cams(img, mask_dic)\n",
    "gb_model = GuidedBackpropReLUModel(model=model, activation_layer_name = 'ReLU', use_cuda=False)\n",
    "show_gbs(inputs, gb_model, target_index, mask_dic)"
   ]
  },
  {
   "attachments": {},
   "cell_type": "markdown",
   "metadata": {},
   "source": [
    "## Visualizaion for EfficientNet-B0"
   ]
  },
  {
   "cell_type": "code",
   "execution_count": 2,
   "metadata": {},
   "outputs": [
    {
     "name": "stdout",
     "output_type": "stream",
     "text": [
      "Loaded pretrained weights for efficientnet-b7\n",
      "(715, 337)\n"
     ]
    },
    {
     "ename": "ValueError",
     "evalue": "operands could not be broadcast together with shapes (224,224,3) (337,715,3) ",
     "output_type": "error",
     "traceback": [
      "\u001b[0;31m---------------------------------------------------------------------------\u001b[0m",
      "\u001b[0;31mValueError\u001b[0m                                Traceback (most recent call last)",
      "\u001b[1;32m/d01/scholles/other/gigasistemica_sandbox_scholles/visualization.ipynb Cell 5\u001b[0m in \u001b[0;36m<cell line: 24>\u001b[0;34m()\u001b[0m\n\u001b[1;32m     <a href='vscode-notebook-cell://ssh-remote%2B7b22686f73744e616d65223a224c4953415f313438227d/d01/scholles/other/gigasistemica_sandbox_scholles/visualization.ipynb#W4sdnNjb2RlLXJlbW90ZQ%3D%3D?line=21'>22</a>\u001b[0m show_cams(img, mask_dic)\n\u001b[1;32m     <a href='vscode-notebook-cell://ssh-remote%2B7b22686f73744e616d65223a224c4953415f313438227d/d01/scholles/other/gigasistemica_sandbox_scholles/visualization.ipynb#W4sdnNjb2RlLXJlbW90ZQ%3D%3D?line=22'>23</a>\u001b[0m gb_model \u001b[39m=\u001b[39m GuidedBackpropReLUModel(model\u001b[39m=\u001b[39mmodel, activation_layer_name \u001b[39m=\u001b[39m \u001b[39m'\u001b[39m\u001b[39mMemoryEfficientSwish\u001b[39m\u001b[39m'\u001b[39m, use_cuda\u001b[39m=\u001b[39m\u001b[39mFalse\u001b[39;00m)\n\u001b[0;32m---> <a href='vscode-notebook-cell://ssh-remote%2B7b22686f73744e616d65223a224c4953415f313438227d/d01/scholles/other/gigasistemica_sandbox_scholles/visualization.ipynb#W4sdnNjb2RlLXJlbW90ZQ%3D%3D?line=23'>24</a>\u001b[0m show_gbs(inputs, gb_model, target_index, mask_dic)\n",
      "File \u001b[0;32m/d01/scholles/other/gigasistemica_sandbox_scholles/grad_cam.py:232\u001b[0m, in \u001b[0;36mshow_gbs\u001b[0;34m(inputs, gb_model, target_index, mask_dic)\u001b[0m\n\u001b[1;32m    230\u001b[0m \u001b[39mfor\u001b[39;00m idx, mask \u001b[39min\u001b[39;00m mask_dic\u001b[39m.\u001b[39mitems():\n\u001b[1;32m    231\u001b[0m     cam_mask \u001b[39m=\u001b[39m cv2\u001b[39m.\u001b[39mmerge([mask, mask, mask])\n\u001b[0;32m--> 232\u001b[0m     cam_gb \u001b[39m=\u001b[39m deprocess_image(cam_mask\u001b[39m*\u001b[39;49mgb)\n\u001b[1;32m    233\u001b[0m     cv2\u001b[39m.\u001b[39mimwrite(\u001b[39m'\u001b[39m\u001b[39mcam_gb\u001b[39m\u001b[39m{}\u001b[39;00m\u001b[39m.jpg\u001b[39m\u001b[39m'\u001b[39m\u001b[39m.\u001b[39mformat(idx), cam_gb)\n\u001b[1;32m    234\u001b[0m cv2\u001b[39m.\u001b[39mimwrite(\u001b[39m'\u001b[39m\u001b[39mgb.jpg\u001b[39m\u001b[39m'\u001b[39m, deprocess_image(gb))\n",
      "\u001b[0;31mValueError\u001b[0m: operands could not be broadcast together with shapes (224,224,3) (337,715,3) "
     ]
    }
   ],
   "source": [
    "def get_resized_size():\n",
    "    path = '/d01/scholles/other/gigasistemica_sandbox_scholles/dataset/CVAT_2/test/Osteoporose_Grave'\n",
    "    files = os.listdir(path)\n",
    "    image = Image.open(os.path.join(path, files[0]))\n",
    "    w, h = image.size\n",
    "    resized = (int(w/4), int(h/4))\n",
    "    return resized\n",
    "\n",
    "model = EfficientNet.from_pretrained('efficientnet-b7')\n",
    "state_dict = torch.load('/d01/scholles/other/gigasistemica_sandbox_scholles/saved_models/MapTest_CVAT2_EfficientNet_Batch16_Saudavel_Grave.pth')\n",
    "model.load_state_dict(state_dict)\n",
    "grad_cam = GradCam(model=model, blob_name = '_blocks', target_layer_names=['1','10','15'], use_cuda=False)\n",
    "resized = get_resized_size()\n",
    "print(resized)\n",
    "img = cv2.imread('/d01/scholles/other/gigasistemica_sandbox_scholles/dataset/CVAT_1/val/Osteoporose/OPHUB2022-4.jpg', 1)\n",
    "img = np.float32(cv2.resize(img, (715, 337))) / 255\n",
    "inputs = preprocess_image(img)\n",
    "# If None, returns the map for the highest scoring category.\n",
    "# Otherwise, targets the requested index.\n",
    "target_index = None\n",
    "mask_dic = grad_cam(inputs, target_index)\n",
    "show_cams(img, mask_dic)\n",
    "gb_model = GuidedBackpropReLUModel(model=model, activation_layer_name = 'MemoryEfficientSwish', use_cuda=False)\n",
    "show_gbs(inputs, gb_model, target_index, mask_dic)"
   ]
  },
  {
   "cell_type": "code",
   "execution_count": null,
   "metadata": {},
   "outputs": [],
   "source": []
  }
 ],
 "metadata": {
  "kernelspec": {
   "display_name": "Python 3",
   "language": "python",
   "name": "python3"
  },
  "language_info": {
   "codemirror_mode": {
    "name": "ipython",
    "version": 3
   },
   "file_extension": ".py",
   "mimetype": "text/x-python",
   "name": "python",
   "nbconvert_exporter": "python",
   "pygments_lexer": "ipython3",
   "version": "3.10.4"
  }
 },
 "nbformat": 4,
 "nbformat_minor": 4
}
